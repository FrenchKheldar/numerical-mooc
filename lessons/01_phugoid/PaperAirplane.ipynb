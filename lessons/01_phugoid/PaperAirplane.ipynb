{
 "metadata": {
  "name": "",
  "signature": "sha256:33442cf65fa5a4cb99e4ead132df04b7720e96f6c475bf7247f0fde417dd154f"
 },
 "nbformat": 3,
 "nbformat_minor": 0,
 "worksheets": [
  {
   "cells": [
    {
     "cell_type": "code",
     "collapsed": false,
     "input": [
      "import numpy\n",
      "import matplotlib.pyplot as plt\n",
      "%matplotlib inline\n",
      "\n",
      "\n"
     ],
     "language": "python",
     "metadata": {},
     "outputs": [],
     "prompt_number": 18
    },
    {
     "cell_type": "code",
     "collapsed": false,
     "input": [
      "def f(u):\n",
      "    \"\"\"Returns the right-hand side of the phugoid system of equations.\n",
      "    \n",
      "    Parameters\n",
      "    ----------\n",
      "    u : array of float\n",
      "        array containing the solution at time n.\n",
      "        \n",
      "    Returns\n",
      "    -------\n",
      "    dudt : array of float\n",
      "        array containing the RHS given u.\n",
      "    \"\"\"\n",
      "    \n",
      "    v = u[0]\n",
      "    theta = u[1]\n",
      "    x = u[2]\n",
      "    y = u[3]\n",
      "    return numpy.array([-g*sin(theta) - C_D/C_L*g/v_t**2*v**2,\n",
      "                      -g*cos(theta)/v + g/v_t**2*v,\n",
      "                      v*cos(theta),\n",
      "                      v*sin(theta)])"
     ],
     "language": "python",
     "metadata": {},
     "outputs": [],
     "prompt_number": 19
    },
    {
     "cell_type": "code",
     "collapsed": false,
     "input": [
      "def euler_step(u, f, dt):\n",
      "    \"\"\"Returns the solution at the next time-step using Euler's method.\n",
      "    \n",
      "    Parameters\n",
      "    ----------\n",
      "    u : array of float\n",
      "        solution at the previous time-step.\n",
      "    f : function\n",
      "        function to compute the right hand-side of the system of equation.\n",
      "    dt : float\n",
      "        time-increment.\n",
      "    \n",
      "    Returns\n",
      "    -------\n",
      "    u_n_plus_1 : array of float\n",
      "        approximate solution at the next time step.\n",
      "    \"\"\"\n",
      "    \n",
      "    return u + dt * f(u)"
     ],
     "language": "python",
     "metadata": {},
     "outputs": [],
     "prompt_number": 20
    },
    {
     "cell_type": "code",
     "collapsed": false,
     "input": [
      "# Initial altitude\n",
      "y0 = 2.0 # m\n",
      "x0 = 0.0     # horizotal position is arbitrary\n",
      "\n",
      "#L_over_D = 5.0\n",
      "C_D = 1/5.  # drag coefficient --- or D/L if C_L=1\n",
      "C_L = 1.0    # for convenience, use C_L = 1\n",
      "# Gravity\n",
      "g = 9.81 # m/s2\n",
      "# Trim velocity\n",
      "v_t = 4.9 # m/s\n",
      "\n",
      "# Velocity range\n",
      "#vrange = [v_t] #\n",
      "vrange = arange(v_t/2.0,3.0*v_t,v_t/5.0)\n",
      "# Angle range\n",
      "#trange = [0.0] #\n",
      "trange = arange(-60,60,5)\n",
      "print vrange,trange\n",
      "longest = 0.0\n",
      "maximumDistance = numpy.zeros((len(trange),len(vrange)))\n",
      "for iv, v in enumerate(vrange):\n",
      "    for it, theta in enumerate(trange):\n",
      "        ### set initial conditions ###\n",
      "        v0 = v \n",
      "        theta0 = theta\n",
      "\n",
      "        T = 100.0                          # maximum integration time\n",
      "        dt = 0.001                           # time increment\n",
      "        N = int(T/dt) + 1                  # number of time-steps\n",
      "        t = numpy.linspace(0.0, T, N)      # time discretization\n",
      "\n",
      "        # initialize the array containing the solution for each time-step\n",
      "        u = numpy.zeros((N, 4))\n",
      "        u[0] = numpy.array([v0, theta0, x0, y0])# fill 1st element with initial values\n",
      "\n",
      "        n = 0\n",
      "        # time loop - Euler method\n",
      "        while u[n][3] > 0 and n < N:    \n",
      "            u[n+1] = euler_step(u[n], f, dt)\n",
      "            n = n + 1\n",
      "            #print n,u[n][3]\n",
      "                \n",
      "        #print \"Plane has crashed for v0 = {0:.2f} and theta0 = {1:.0f}.\".format(v0,theta0)\n",
      "        maximumDistance[it,iv] = u[n,2]\n",
      "        #print u[n],n\n",
      "        if u[n][2]> longest:\n",
      "            longest = u[n][2]\n",
      "            print \"New record: {0:.2f} m\".format(longest)\n",
      "            # get the glider's position with respect to the time for plotting best trajectory\n",
      "            x = u[:n,2]\n",
      "            y = u[:n,3]\n",
      "            v0longest = v0\n",
      "            theta0longest = theta0\n",
      "        #else:\n",
      "            #print \"Not good enough, current best mark: {0:.2f} m\".format(longest)\n",
      "            \n",
      "\n",
      "# visualization of the path\n",
      "plt.figure(figsize=(8,6))\n",
      "plt.grid(True)\n",
      "plt.xlabel(r'x', fontsize=18)\n",
      "plt.ylabel(r'y', fontsize=18)\n",
      "plt.suptitle('Glider trajectory for v0 = {0:.2f} and theta0 = {1:.0f}'.format(v0longest,theta0longest), fontsize=18)\n",
      "plt.title('Flight time= {0:.2f}'.format(n*dt), fontsize=16)\n",
      "plt.plot(x,y, 'k-', lw=2);\n",
      "\n"
     ],
     "language": "python",
     "metadata": {},
     "outputs": [
      {
       "output_type": "stream",
       "stream": "stdout",
       "text": [
        "[  2.45   3.43   4.41   5.39   6.37   7.35   8.33   9.31  10.29  11.27\n",
        "  12.25  13.23  14.21] [-60 -55 -50 -45 -40 -35 -30 -25 -20 -15 -10  -5   0   5  10  15  20  25\n",
        "  30  35  40  45  50  55]\n",
        "New record: 0.67 m"
       ]
      },
      {
       "output_type": "stream",
       "stream": "stdout",
       "text": [
        "\n",
        "New record: 2.97 m\n",
        "New record: 2.99 m"
       ]
      },
      {
       "output_type": "stream",
       "stream": "stdout",
       "text": [
        "\n",
        "New record: 4.82 m"
       ]
      },
      {
       "output_type": "stream",
       "stream": "stdout",
       "text": [
        "\n",
        "New record: 4.98 m"
       ]
      },
      {
       "output_type": "stream",
       "stream": "stdout",
       "text": [
        "\n",
        "New record: 5.02 m"
       ]
      },
      {
       "output_type": "stream",
       "stream": "stdout",
       "text": [
        "\n",
        "New record: 7.80 m"
       ]
      },
      {
       "output_type": "stream",
       "stream": "stdout",
       "text": [
        "\n",
        "New record: 8.48 m"
       ]
      },
      {
       "output_type": "stream",
       "stream": "stdout",
       "text": [
        "\n",
        "New record: 8.86 m"
       ]
      },
      {
       "output_type": "stream",
       "stream": "stdout",
       "text": [
        "\n",
        "New record: 9.01 m"
       ]
      },
      {
       "output_type": "stream",
       "stream": "stdout",
       "text": [
        "\n",
        "New record: 9.03 m"
       ]
      },
      {
       "output_type": "stream",
       "stream": "stdout",
       "text": [
        "\n",
        "New record: 12.13 m"
       ]
      },
      {
       "output_type": "stream",
       "stream": "stdout",
       "text": [
        "\n",
        "New record: 14.47 m"
       ]
      },
      {
       "output_type": "stream",
       "stream": "stdout",
       "text": [
        "\n",
        "New record: 14.64 m"
       ]
      },
      {
       "output_type": "stream",
       "stream": "stdout",
       "text": [
        "\n",
        "New record: 15.65 m"
       ]
      },
      {
       "output_type": "stream",
       "stream": "stdout",
       "text": [
        "\n",
        "New record: 16.10 m"
       ]
      },
      {
       "output_type": "stream",
       "stream": "stdout",
       "text": [
        "\n",
        "New record: 16.36 m"
       ]
      },
      {
       "output_type": "stream",
       "stream": "stdout",
       "text": [
        "\n",
        "New record: 16.38 m"
       ]
      },
      {
       "output_type": "stream",
       "stream": "stdout",
       "text": [
        "\n",
        "New record: 16.78 m"
       ]
      },
      {
       "output_type": "stream",
       "stream": "stdout",
       "text": [
        "\n",
        "New record: 17.20 m"
       ]
      },
      {
       "output_type": "stream",
       "stream": "stdout",
       "text": [
        "\n",
        "New record: 17.41 m"
       ]
      },
      {
       "output_type": "stream",
       "stream": "stdout",
       "text": [
        "\n",
        "New record: 17.43 m"
       ]
      },
      {
       "output_type": "stream",
       "stream": "stdout",
       "text": [
        "\n",
        "New record: 17.50 m"
       ]
      },
      {
       "output_type": "stream",
       "stream": "stdout",
       "text": [
        "\n",
        "New record: 17.81 m"
       ]
      },
      {
       "output_type": "stream",
       "stream": "stdout",
       "text": [
        "\n",
        "New record: 17.92 m"
       ]
      },
      {
       "output_type": "stream",
       "stream": "stdout",
       "text": [
        "\n",
        "New record: 17.97 m"
       ]
      },
      {
       "output_type": "stream",
       "stream": "stdout",
       "text": [
        "\n",
        "New record: 18.04 m"
       ]
      },
      {
       "output_type": "stream",
       "stream": "stdout",
       "text": [
        "\n",
        "New record: 18.40 m"
       ]
      },
      {
       "output_type": "stream",
       "stream": "stdout",
       "text": [
        "\n",
        "New record: 18.69 m"
       ]
      },
      {
       "output_type": "stream",
       "stream": "stdout",
       "text": [
        "\n",
        "New record: 18.82 m"
       ]
      },
      {
       "output_type": "stream",
       "stream": "stdout",
       "text": [
        "\n"
       ]
      },
      {
       "metadata": {},
       "output_type": "display_data",
       "png": "[encoded data removed]",
       "text": [
        "<matplotlib.figure.Figure at 0x107195ad0>"
       ]
      }
     ],
     "prompt_number": 59
    },
    {
     "cell_type": "code",
     "collapsed": false,
     "input": [
      "fig, ax = plt.subplots()\n",
      "heatmap = ax.pcolor(vrange,trange,maximumDistance)\n",
      "plt.colorbar(heatmap)\n",
      "plt.xlabel(r'$v_0$', fontsize=18)\n",
      "plt.ylabel(r'$\\theta_0$', fontsize=18)\n",
      "plt.suptitle('Maximum distance (in m) for different initial conditions.', fontsize=18)\n",
      "ax.set_xticks(vrange[::2]+v_t/10., minor=False)\n",
      "ax.set_yticks(trange[::2]+2.5, minor=False)\n",
      "ax.set_xticklabels(vrange[::2], minor=False)\n",
      "ax.set_yticklabels(trange[::2], minor=False)\n",
      "plt.show()"
     ],
     "language": "python",
     "metadata": {},
     "outputs": [
      {
       "metadata": {},
       "output_type": "display_data",
       "png": "[encoded data removed]",
       "text": [
        "<matplotlib.figure.Figure at 0x106183c10>"
       ]
      }
     ],
     "prompt_number": 69
    },
    {
     "cell_type": "code",
     "collapsed": false,
     "input": [],
     "language": "python",
     "metadata": {},
     "outputs": []
    }
   ],
   "metadata": {}
  }
 ]
}